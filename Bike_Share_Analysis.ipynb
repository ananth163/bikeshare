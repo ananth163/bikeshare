{
 "cells": [
  {
   "cell_type": "markdown",
   "metadata": {},
   "source": [
    "# 2016 US Bike Share Activity Snapshot\n",
    "\n",
    "## Table of Contents\n",
    "- [Introduction](#intro)\n",
    "- [Posing Questions](#pose_questions)\n",
    "- [Data Collection and Wrangling](#wrangling)\n",
    "  - [Condensing the Trip Data](#condensing)\n",
    "- [Exploratory Data Analysis](#eda)\n",
    "  - [Statistics](#statistics)\n",
    "  - [Visualizations](#visualizations)\n",
    "- [Performing Your Own Analysis](#eda_continued)\n",
    "- [Conclusions](#conclusions)\n",
    "\n",
    "<a id='intro'></a>\n",
    "## Introduction\n",
    "\n",
    "> **Tip**: Quoted sections like this will provide helpful instructions on how to navigate and use a Jupyter notebook.\n",
    "\n",
    "Over the past decade, bicycle-sharing systems have been growing in number and popularity in cities across the world. Bicycle-sharing systems allow users to rent bicycles for short trips, typically 30 minutes or less. Thanks to the rise in information technologies, it is easy for a user of the system to access a dock within the system to unlock or return bicycles. These technologies also provide a wealth of data that can be used to explore how these bike-sharing systems are used.\n",
    "\n",
    "In this project, you will perform an exploratory analysis on data provided by [Motivate](https://www.motivateco.com/), a bike-share system provider for many major cities in the United States. You will compare the system usage between three large cities: New York City, Chicago, and Washington, DC. You will also see if there are any differences within each system for those users that are registered, regular users and those users that are short-term, casual users."
   ]
  },
  {
   "cell_type": "markdown",
   "metadata": {},
   "source": [
    "<a id='pose_questions'></a>\n",
    "## Posing Questions\n",
    "\n",
    "Before looking at the bike sharing data, you should start by asking questions you might want to understand about the bike share data. Consider, for example, if you were working for Motivate. What kinds of information would you want to know about in order to make smarter business decisions? If you were a user of the bike-share service, what factors might influence how you would want to use the service?\n",
    "\n",
    "**Question 1**: Write at least two questions related to bike sharing that you think could be answered by data.\n",
    "\n",
    "**Answer**: \n",
    "            - 1. Which location in the city has maximum ridership? Which location has more customers compared to subscribers?\n",
    "            - 2. Which location in the city has maximum trip duration? \n",
    "\n",
    "> **Tip**: If you double click on this cell, you will see the text change so that all of the formatting is removed. This allows you to edit this block of text. This block of text is written using [Markdown](http://daringfireball.net/projects/markdown/syntax), which is a way to format text using headers, links, italics, and many other options using a plain-text syntax. You will also use Markdown later in the Nanodegree program. Use **Shift** + **Enter** or **Shift** + **Return** to run the cell and show its rendered form."
   ]
  },
  {
   "cell_type": "markdown",
   "metadata": {},
   "source": [
    "<a id='wrangling'></a>\n",
    "## Data Collection and Wrangling\n",
    "\n",
    "Now it's time to collect and explore our data. In this project, we will focus on the record of individual trips taken in 2016 from our selected cities: New York City, Chicago, and Washington, DC. Each of these cities has a page where we can freely download the trip data.:\n",
    "\n",
    "- New York City (Citi Bike): [Link](https://www.citibikenyc.com/system-data)\n",
    "- Chicago (Divvy): [Link](https://www.divvybikes.com/system-data)\n",
    "- Washington, DC (Capital Bikeshare): [Link](https://www.capitalbikeshare.com/system-data)\n",
    "\n",
    "If you visit these pages, you will notice that each city has a different way of delivering its data. Chicago updates with new data twice a year, Washington DC is quarterly, and New York City is monthly. **However, you do not need to download the data yourself.** The data has already been collected for you in the `/data/` folder of the project files. While the original data for 2016 is spread among multiple files for each city, the files in the `/data/` folder collect all of the trip data for the year into one file per city. Some data wrangling of inconsistencies in timestamp format within each city has already been performed for you. In addition, a random 2% sample of the original data is taken to make the exploration more manageable. \n",
    "\n",
    "**Question 2**: However, there is still a lot of data for us to investigate, so it's a good idea to start off by looking at one entry from each of the cities we're going to analyze. Run the first code cell below to load some packages and functions that you'll be using in your analysis. Then, complete the second code cell to print out the first trip recorded from each of the cities (the second line of each data file).\n",
    "\n",
    "> **Tip**: You can run a code cell like you formatted Markdown cells above by clicking on the cell and using the keyboard shortcut **Shift** + **Enter** or **Shift** + **Return**. Alternatively, a code cell can be executed using the **Play** button in the toolbar after selecting it. While the cell is running, you will see an asterisk in the message to the left of the cell, i.e. `In [*]:`. The asterisk will change into a number to show that execution has completed, e.g. `In [1]`. If there is output, it will show up as `Out [1]:`, with an appropriate number to match the \"In\" number."
   ]
  },
  {
   "cell_type": "code",
   "execution_count": 1,
   "metadata": {},
   "outputs": [],
   "source": [
    "## import all necessary packages and functions.\n",
    "import csv # read and write csv files\n",
    "from datetime import datetime,date # operations to parse dates\n",
    "from pprint import pprint # use to print data structures like dictionaries in\n",
    "                          # a nicer way than the base print function."
   ]
  },
  {
   "cell_type": "code",
   "execution_count": 35,
   "metadata": {},
   "outputs": [
    {
     "name": "stdout",
     "output_type": "stream",
     "text": [
      "\n",
      "City: NYC\n",
      "OrderedDict([('tripduration', '839'),\n",
      "             ('starttime', '1/1/2016 00:09:55'),\n",
      "             ('stoptime', '1/1/2016 00:23:54'),\n",
      "             ('start station id', '532'),\n",
      "             ('start station name', 'S 5 Pl & S 4 St'),\n",
      "             ('start station latitude', '40.710451'),\n",
      "             ('start station longitude', '-73.960876'),\n",
      "             ('end station id', '401'),\n",
      "             ('end station name', 'Allen St & Rivington St'),\n",
      "             ('end station latitude', '40.72019576'),\n",
      "             ('end station longitude', '-73.98997825'),\n",
      "             ('bikeid', '17109'),\n",
      "             ('usertype', 'Customer'),\n",
      "             ('birth year', ''),\n",
      "             ('gender', '0')])\n",
      "\n",
      "City: Chicago\n",
      "OrderedDict([('trip_id', '9080545'),\n",
      "             ('starttime', '3/31/2016 23:30'),\n",
      "             ('stoptime', '3/31/2016 23:46'),\n",
      "             ('bikeid', '2295'),\n",
      "             ('tripduration', '926'),\n",
      "             ('from_station_id', '156'),\n",
      "             ('from_station_name', 'Clark St & Wellington Ave'),\n",
      "             ('to_station_id', '166'),\n",
      "             ('to_station_name', 'Ashland Ave & Wrightwood Ave'),\n",
      "             ('usertype', 'Subscriber'),\n",
      "             ('gender', 'Male'),\n",
      "             ('birthyear', '1990')])\n",
      "\n",
      "City: Washington\n",
      "OrderedDict([('Duration (ms)', '427387'),\n",
      "             ('Start date', '3/31/2016 22:57'),\n",
      "             ('End date', '3/31/2016 23:04'),\n",
      "             ('Start station number', '31602'),\n",
      "             ('Start station', 'Park Rd & Holmead Pl NW'),\n",
      "             ('End station number', '31207'),\n",
      "             ('End station', 'Georgia Ave and Fairmont St NW'),\n",
      "             ('Bike number', 'W20842'),\n",
      "             ('Member Type', 'Registered')])\n"
     ]
    }
   ],
   "source": [
    "def print_first_point(filename):\n",
    "    \"\"\"\n",
    "    This function prints and returns the first data point (second row) from\n",
    "    a csv file that includes a header row.\n",
    "    \"\"\"\n",
    "    # print city name for reference\n",
    "    city = filename.split('-')[0].split('/')[-1]\n",
    "    print('\\nCity: {}'.format(city))\n",
    "    \n",
    "    with open(filename, 'r') as f_in:\n",
    "        ## TODO: Use the csv library to set up a DictReader object. ##\n",
    "        ## see https://docs.python.org/3/library/csv.html           ##\n",
    "        trip_reader = csv.DictReader(f_in)\n",
    "        \n",
    "        ## TODO: Use a function on the DictReader object to read the     ##\n",
    "        ## first trip from the data file and store it in a variable.     ##\n",
    "        ## see https://docs.python.org/3/library/csv.html#reader-objects ##\n",
    "        first_trip = trip_reader.__next__()\n",
    "        \n",
    "        ## TODO: Use the pprint library to print the first trip. ##\n",
    "        ## see https://docs.python.org/3/library/pprint.html     ##\n",
    "        pprint(first_trip)\n",
    "        \n",
    "    # output city name and first trip for later testing\n",
    "    return (city, first_trip)\n",
    "\n",
    "# list of files for each city\n",
    "data_files = ['./data/NYC-CitiBike-2016.csv',\n",
    "              './data/Chicago-Divvy-2016.csv',\n",
    "              './data/Washington-CapitalBikeshare-2016.csv',]\n",
    "\n",
    "# print the first trip from each file, store in dictionary\n",
    "example_trips = {}\n",
    "for data_file in data_files:\n",
    "    city, first_trip = print_first_point(data_file)\n",
    "    example_trips[city] = first_trip"
   ]
  },
  {
   "cell_type": "markdown",
   "metadata": {},
   "source": [
    "If everything has been filled out correctly, you should see below the printout of each city name (which has been parsed from the data file name) that the first trip has been parsed in the form of a dictionary. When you set up a `DictReader` object, the first row of the data file is normally interpreted as column names. Every other row in the data file will use those column names as keys, as a dictionary is generated for each row.\n",
    "\n",
    "This will be useful since we can refer to quantities by an easily-understandable label instead of just a numeric index. For example, if we have a trip stored in the variable `row`, then we would rather get the trip duration from `row['duration']` instead of `row[0]`.\n",
    "\n",
    "<a id='condensing'></a>\n",
    "### Condensing the Trip Data\n",
    "\n",
    "It should also be observable from the above printout that each city provides different information. Even where the information is the same, the column names and formats are sometimes different. To make things as simple as possible when we get to the actual exploration, we should trim and clean the data. Cleaning the data makes sure that the data formats across the cities are consistent, while trimming focuses only on the parts of the data we are most interested in to make the exploration easier to work with.\n",
    "\n",
    "You will generate new data files with five values of interest for each trip: trip duration, starting month, starting hour, day of the week, and user type. Each of these may require additional wrangling depending on the city:\n",
    "\n",
    "- **Duration**: This has been given to us in seconds (New York, Chicago) or milliseconds (Washington). A more natural unit of analysis will be if all the trip durations are given in terms of minutes.\n",
    "- **Month**, **Hour**, **Day of Week**: Ridership volume is likely to change based on the season, time of day, and whether it is a weekday or weekend. Use the start time of the trip to obtain these values. The New York City data includes the seconds in their timestamps, while Washington and Chicago do not. The [`datetime`](https://docs.python.org/3/library/datetime.html) package will be very useful here to make the needed conversions.\n",
    "- **User Type**: It is possible that users who are subscribed to a bike-share system will have different patterns of use compared to users who only have temporary passes. Washington divides its users into two types: 'Registered' for users with annual, monthly, and other longer-term subscriptions, and 'Casual', for users with 24-hour, 3-day, and other short-term passes. The New York and Chicago data uses 'Subscriber' and 'Customer' for these groups, respectively. For consistency, you will convert the Washington labels to match the other two.\n",
    "\n",
    "\n",
    "**Question 3a**: Complete the helper functions in the code cells below to address each of the cleaning tasks described above."
   ]
  },
  {
   "cell_type": "code",
   "execution_count": 36,
   "metadata": {},
   "outputs": [],
   "source": [
    "def duration_in_mins(datum, city):\n",
    "    \"\"\"\n",
    "    Takes as input a dictionary containing info about a single trip (datum) and\n",
    "    its origin city (city) and returns the trip duration in units of minutes.\n",
    "    \n",
    "    Remember that Washington is in terms of milliseconds while Chicago and NYC\n",
    "    are in terms of seconds. \n",
    "    \n",
    "    HINT: The csv module reads in all of the data as strings, including numeric\n",
    "    values. You will need a function to convert the strings into an appropriate\n",
    "    numeric type when making your transformations.\n",
    "    see https://docs.python.org/3/library/functions.html\n",
    "    \"\"\"\n",
    "    \n",
    "    # YOUR CODE HERE\n",
    "    if city == 'Washington' :\n",
    "        duration = int(datum['Duration (ms)'])/60000\n",
    "    else :\n",
    "        duration = int(datum['tripduration'])/60\n",
    "    \n",
    "    return duration\n",
    "\n",
    "\n",
    "# Some tests to check that your code works. There should be no output if all of\n",
    "# the assertions pass. The `example_trips` dictionary was obtained from when\n",
    "# you printed the first trip from each of the original data files.\n",
    "tests = {'NYC': 13.9833,\n",
    "         'Chicago': 15.4333,\n",
    "         'Washington': 7.1231}\n",
    "\n",
    "for city in tests:\n",
    "    assert abs(duration_in_mins(example_trips[city], city) - tests[city]) < .001"
   ]
  },
  {
   "cell_type": "code",
   "execution_count": 37,
   "metadata": {},
   "outputs": [],
   "source": [
    "def time_of_trip(datum, city):\n",
    "    \"\"\"\n",
    "    Takes as input a dictionary containing info about a single trip (datum) and\n",
    "    its origin city (city) and returns the month, hour, and day of the week in\n",
    "    which the trip was made.\n",
    "    \n",
    "    Remember that NYC includes seconds, while Washington and Chicago do not.\n",
    "    \n",
    "    HINT: You should use the datetime module to parse the original date\n",
    "    strings into a format that is useful for extracting the desired information.\n",
    "    see https://docs.python.org/3/library/datetime.html#strftime-and-strptime-behavior\n",
    "    \"\"\"\n",
    "    \n",
    "    # YOUR CODE HERE\n",
    "    if city == 'NYC' :\n",
    "        starttime = datetime.strptime(datum['starttime'],\"%m/%d/%Y %H:%M:%S\")\n",
    "        month = int(starttime.strftime(\"%m\"))\n",
    "        hour = int(starttime.strftime(\"%H\"))\n",
    "        day_of_week = starttime.strftime(\"%A\")\n",
    "    elif city == 'Washington' :\n",
    "        starttime = datetime.strptime(datum['Start date'],\"%m/%d/%Y %H:%M\")\n",
    "        month = int(starttime.strftime(\"%m\"))\n",
    "        hour = int(starttime.strftime(\"%H\"))\n",
    "        day_of_week = starttime.strftime(\"%A\")\n",
    "    elif city == 'Chicago' :\n",
    "        starttime = datetime.strptime(datum['starttime'],\"%m/%d/%Y %H:%M\")\n",
    "        month = int(starttime.strftime(\"%m\"))\n",
    "        hour = int(starttime.strftime(\"%H\"))\n",
    "        day_of_week = starttime.strftime(\"%A\")      \n",
    "    \n",
    "    return (month, hour, day_of_week)\n",
    "\n",
    "\n",
    "# Some tests to check that your code works. There should be no output if all of\n",
    "# the assertions pass. The `example_trips` dictionary was obtained from when\n",
    "# you printed the first trip from each of the original data files.\n",
    "tests = {'NYC': (1, 0, 'Friday'),\n",
    "         'Chicago': (3, 23, 'Thursday'),\n",
    "         'Washington': (3, 22, 'Thursday')}\n",
    "\n",
    "for city in tests:\n",
    "    assert time_of_trip(example_trips[city], city) == tests[city]"
   ]
  },
  {
   "cell_type": "code",
   "execution_count": 38,
   "metadata": {},
   "outputs": [],
   "source": [
    "def type_of_user(datum, city):\n",
    "    \"\"\"\n",
    "    Takes as input a dictionary containing info about a single trip (datum) and\n",
    "    its origin city (city) and returns the type of system user that made the\n",
    "    trip.\n",
    "    \n",
    "    Remember that Washington has different category names compared to Chicago\n",
    "    and NYC. \n",
    "    \"\"\"\n",
    "    \n",
    "    # YOUR CODE HERE\n",
    "    if city == 'Washington' :\n",
    "        if datum['Member Type'] == 'Registered' :\n",
    "            user_type = 'Subscriber'\n",
    "        else :\n",
    "            user_type = 'Customer'\n",
    "    else :\n",
    "        user_type = datum['usertype']\n",
    "    \n",
    "    return user_type\n",
    "\n",
    "\n",
    "# Some tests to check that your code works. There should be no output if all of\n",
    "# the assertions pass. The `example_trips` dictionary was obtained from when\n",
    "# you printed the first trip from each of the original data files.\n",
    "tests = {'NYC': 'Customer',\n",
    "         'Chicago': 'Subscriber',\n",
    "         'Washington': 'Subscriber'}\n",
    "\n",
    "for city in tests:\n",
    "    assert type_of_user(example_trips[city], city) == tests[city]"
   ]
  },
  {
   "cell_type": "markdown",
   "metadata": {},
   "source": [
    "**Question 3b**: Now, use the helper functions you wrote above to create a condensed data file for each city consisting only of the data fields indicated above. In the `/examples/` folder, you will see an example datafile from the [Bay Area Bike Share](http://www.bayareabikeshare.com/open-data) before and after conversion. Make sure that your output is formatted to be consistent with the example file."
   ]
  },
  {
   "cell_type": "code",
   "execution_count": 56,
   "metadata": {},
   "outputs": [],
   "source": [
    "def condense_data(in_file, out_file, city):\n",
    "    \"\"\"\n",
    "    This function takes full data from the specified input file\n",
    "    and writes the condensed data to a specified output file. The city\n",
    "    argument determines how the input file will be parsed.\n",
    "    \n",
    "    HINT: See the cell below to see how the arguments are structured!\n",
    "    \"\"\"\n",
    "    \n",
    "    with open(out_file, 'w') as f_out, open(in_file, 'r') as f_in:\n",
    "        # set up csv DictWriter object - writer requires column names for the\n",
    "        # first row as the \"fieldnames\" argument\n",
    "        out_colnames = ['duration', 'month', 'hour', 'day_of_week', 'user_type']        \n",
    "        trip_writer = csv.DictWriter(f_out, fieldnames = out_colnames)\n",
    "        trip_writer.writeheader()\n",
    "        \n",
    "        ## TODO: set up csv DictReader object ##\n",
    "        trip_reader = csv.DictReader(f_in)\n",
    "\n",
    "        # collect data from and process each row\n",
    "        for row in trip_reader:\n",
    "            # set up a dictionary to hold the values for the cleaned and trimmed\n",
    "            # data point\n",
    "            new_point = {}\n",
    "\n",
    "            ## TODO: use the helper functions to get the cleaned data from  ##\n",
    "            ## the original data dictionaries.                              ##\n",
    "            ## Note that the keys for the new_point dictionary should match ##\n",
    "            ## the column names set in the DictWriter object above.         ##\n",
    "            new_point['duration'] = duration_in_mins(row, city)\n",
    "            new_point['month'] = time_of_trip(row, city)[0]\n",
    "            new_point['hour'] = time_of_trip(row, city)[1]\n",
    "            new_point['day_of_week'] = time_of_trip(row, city)[2]\n",
    "            new_point['user_type'] = type_of_user(row, city)\n",
    "            \n",
    "\n",
    "            ## TODO: write the processed information to the output file.     ##\n",
    "            ## see https://docs.python.org/3/library/csv.html#writer-objects ##\n",
    "            trip_writer.writerow(new_point)\n",
    "            "
   ]
  },
  {
   "cell_type": "code",
   "execution_count": 57,
   "metadata": {},
   "outputs": [
    {
     "name": "stdout",
     "output_type": "stream",
     "text": [
      "\n",
      "City: Washington\n",
      "OrderedDict([('duration', '7.123116666666666'),\n",
      "             ('month', '3'),\n",
      "             ('hour', '22'),\n",
      "             ('day_of_week', 'Thursday'),\n",
      "             ('user_type', 'Subscriber')])\n",
      "\n",
      "City: Chicago\n",
      "OrderedDict([('duration', '15.433333333333334'),\n",
      "             ('month', '3'),\n",
      "             ('hour', '23'),\n",
      "             ('day_of_week', 'Thursday'),\n",
      "             ('user_type', 'Subscriber')])\n",
      "\n",
      "City: NYC\n",
      "OrderedDict([('duration', '13.983333333333333'),\n",
      "             ('month', '1'),\n",
      "             ('hour', '0'),\n",
      "             ('day_of_week', 'Friday'),\n",
      "             ('user_type', 'Customer')])\n"
     ]
    }
   ],
   "source": [
    "# Run this cell to check your work\n",
    "city_info = {'Washington': {'in_file': './data/Washington-CapitalBikeshare-2016.csv',\n",
    "                            'out_file': './data/Washington-2016-Summary.csv'},\n",
    "             'Chicago': {'in_file': './data/Chicago-Divvy-2016.csv',\n",
    "                         'out_file': './data/Chicago-2016-Summary.csv'},\n",
    "             'NYC': {'in_file': './data/NYC-CitiBike-2016.csv',\n",
    "                     'out_file': './data/NYC-2016-Summary.csv'}}\n",
    "\n",
    "for city, filenames in city_info.items():\n",
    "    condense_data(filenames['in_file'], filenames['out_file'], city)\n",
    "    print_first_point(filenames['out_file'])"
   ]
  },
  {
   "cell_type": "markdown",
   "metadata": {},
   "source": [
    "> **Tip**: If you save a jupyter Notebook, the output from running code blocks will also be saved. However, the state of your workspace will be reset once a new session is started. Make sure that you run all of the necessary code blocks from your previous session to reestablish variables and functions before picking up where you last left off.\n",
    "\n",
    "<a id='eda'></a>\n",
    "## Exploratory Data Analysis\n",
    "\n",
    "Now that you have the data collected and wrangled, you're ready to start exploring the data. In this section you will write some code to compute descriptive statistics from the data. You will also be introduced to the `matplotlib` library to create some basic histograms of the data.\n",
    "\n",
    "<a id='statistics'></a>\n",
    "### Statistics\n",
    "\n",
    "First, let's compute some basic counts. The first cell below contains a function that uses the csv module to iterate through a provided data file, returning the number of trips made by subscribers and customers. The second cell runs this function on the example Bay Area data in the `/examples/` folder. Modify the cells to answer the question below.\n",
    "\n",
    "**Question 4a**: Which city has the highest number of trips? Which city has the highest proportion of trips made by subscribers? Which city has the highest proportion of trips made by short-term customers?\n",
    "\n",
    "**Answer**: New York City has highest proportion of trips made by subscribers, highest proportion of trips made by short term customers and highest number of trips"
   ]
  },
  {
   "cell_type": "code",
   "execution_count": 58,
   "metadata": {},
   "outputs": [],
   "source": [
    "def number_of_trips(filename):\n",
    "    \"\"\"\n",
    "    This function reads in a file with trip data and reports the number of\n",
    "    trips made by subscribers, customers, and total overall.\n",
    "    \"\"\"\n",
    "    with open(filename, 'r') as f_in:\n",
    "        # set up csv reader object\n",
    "        reader = csv.DictReader(f_in)\n",
    "        \n",
    "        # initialize count variables\n",
    "        n_subscribers = 0\n",
    "        n_customers = 0\n",
    "        \n",
    "        # tally up ride types\n",
    "        for row in reader:\n",
    "            if row['user_type'] == 'Subscriber':\n",
    "                n_subscribers += 1\n",
    "            else:\n",
    "                n_customers += 1\n",
    "        \n",
    "        # compute total number of rides\n",
    "        n_total = n_subscribers + n_customers\n",
    "        \n",
    "        # return tallies as a tuple\n",
    "        return(n_subscribers, n_customers, n_total)"
   ]
  },
  {
   "cell_type": "code",
   "execution_count": 59,
   "metadata": {
    "scrolled": true
   },
   "outputs": [
    {
     "name": "stdout",
     "output_type": "stream",
     "text": [
      "City->Total->Subscribers->Customers\n",
      "Washington->66326->51753->14573\n",
      "Chicago->72131->54982->17149\n",
      "NYC->276798->245896->30902\n",
      "\n",
      "NYC has highest number of trips\n",
      "NYC has highest number of trips by subscribers\n",
      "NYC has highest number of trips by customers\n"
     ]
    }
   ],
   "source": [
    "## Modify this and the previous cell to answer Question 4a. Remember to run ##\n",
    "## the function on the cleaned data files you created from Question 3.      ##\n",
    "\n",
    "# set up a dictionary to hold the values for the trips by subsciber,  \n",
    "# trips by customer and total trips\n",
    "city_total = {}\n",
    "city_subscribers = {}\n",
    "city_customers = {}\n",
    "\n",
    "# use the helper function to get the trips details for each city\n",
    "for city, filenames in city_info.items():\n",
    "    city_total[city] = number_of_trips(filenames['out_file'])[2]\n",
    "    city_subscribers[city] = number_of_trips(filenames['out_file'])[0]\n",
    "    city_customers[city] = number_of_trips(filenames['out_file'])[1]\n",
    "    \n",
    "# Find the city having maximum number of trips usign max function\n",
    "max_total = max(city_total, key=city_total.get)\n",
    "max_subscribers = max(city_subscribers, key=city_subscribers.get)\n",
    "max_customers = max(city_customers, key=city_customers.get)\n",
    "\n",
    "# Print the trips details and also the city having maximum trips\n",
    "print(f'City->Total->Subscribers->Customers')\n",
    "for keys in city_total :\n",
    "    print(f'{keys}->{city_total[keys]}->{city_subscribers[keys]}->{city_customers[keys]}')\n",
    "\n",
    "print(f'\\n{max_total} has highest number of trips')\n",
    "print(f'{max_subscribers} has highest number of trips by subscribers')\n",
    "print(f'{max_customers} has highest number of trips by customers')\n"
   ]
  },
  {
   "cell_type": "markdown",
   "metadata": {},
   "source": [
    "> **Tip**: In order to add additional cells to a notebook, you can use the \"Insert Cell Above\" and \"Insert Cell Below\" options from the menu bar above. There is also an icon in the toolbar for adding new cells, with additional icons for moving the cells up and down the document. By default, new cells are of the code type; you can also specify the cell type (e.g. Code or Markdown) of selected cells from the Cell menu or the dropdown in the toolbar.\n",
    "\n",
    "Now, you will write your own code to continue investigating properties of the data.\n",
    "\n",
    "**Question 4b**: Bike-share systems are designed for riders to take short trips. Most of the time, users are allowed to take trips of 30 minutes or less with no additional charges, with overage charges made for trips of longer than that duration. What is the average trip length for each city? What proportion of rides made in each city are longer than 30 minutes?\n",
    "\n",
    "**Answer**: It is tabulated as follows\n",
    "<table style=\"undefined;table-layout: fixed; width: 380px\">\n",
    "<colgroup>\n",
    "<col style=\"width: 76px\">\n",
    "<col style=\"width: 124px\">\n",
    "<col style=\"width: 180px\">\n",
    "</colgroup>\n",
    "  <tr>\n",
    "    <th>City</th>\n",
    "    <th>Average Trip duration(min)</th>\n",
    "    <th>Proportion of trips longer than 30 minutes(%)</th>\n",
    "  </tr>\n",
    "  <tr>\n",
    "    <td>Washington</td>\n",
    "    <td>18.93</td>\n",
    "    <td>10.84</td>\n",
    "  </tr>\n",
    "  <tr>\n",
    "    <td>Chicago</td>\n",
    "    <td>16.56</td>\n",
    "    <td>8.33</td>\n",
    "  </tr>\n",
    "  <tr>\n",
    "    <td>New York City</td>\n",
    "    <td>15.81</td>\n",
    "    <td>7.3</td>\n",
    "  </tr>\n",
    "</table>"
   ]
  },
  {
   "cell_type": "code",
   "execution_count": 60,
   "metadata": {
    "scrolled": true
   },
   "outputs": [],
   "source": [
    "## Use this and additional cells to answer Question 4b.                 ##\n",
    "##                                                                      ##\n",
    "## HINT: The csv module reads in all of the data as strings, including  ##\n",
    "## numeric values. You will need a function to convert the strings      ##\n",
    "## into an appropriate numeric type before you aggregate data.          ##\n",
    "## TIP: For the Bay Area example, the average trip length is 14 minutes ##\n",
    "## and 3.5% of trips are longer than 30 minutes.                        ##\n",
    "\n",
    "def duration_of_trips(filename):\n",
    "    \"\"\"\n",
    "    This function reads in a file with trip data and reports the duration of\n",
    "    trips made by users.\n",
    "    \"\"\"\n",
    "    with open(filename, 'r') as f_in:\n",
    "        # set up csv reader object\n",
    "        reader = csv.DictReader(f_in)\n",
    "        \n",
    "        # initialize count variables\n",
    "        sub_trips = 0\n",
    "        cus_trips = 0\n",
    "        tot_trips = 0\n",
    "        \n",
    "        # compute total duration of all trips for subscriber#\n",
    "        # and customer                                      #\n",
    "        for row in reader :\n",
    "            if row['user_type'] == 'Subscriber' :\n",
    "                sub_trips += float(row['duration'])\n",
    "            else :\n",
    "                cus_trips += float(row['duration'])\n",
    "        \n",
    "        # Calculate Total trip duration                     #\n",
    "\n",
    "        tot_trips = sub_trips + cus_trips\n",
    "        \n",
    "        # return tallies as a tuple\n",
    "        return(sub_trips, cus_trips, tot_trips)\n",
    "\n"
   ]
  },
  {
   "cell_type": "code",
   "execution_count": 61,
   "metadata": {},
   "outputs": [],
   "source": [
    "## Function to get trips longer than 30 minutes ##\n",
    "def trips_longer_30(filename):\n",
    "    \"\"\"\n",
    "    This function reads in a file with trip data and reports the duration of\n",
    "    trips made by users.\n",
    "    \"\"\"\n",
    "    with open(filename, 'r') as f_in:\n",
    "        # set up csv reader object\n",
    "        reader = csv.DictReader(f_in)\n",
    "        \n",
    "        # initialize count variables\n",
    "        sub_trips = 0\n",
    "        cus_trips = 0\n",
    "        tot_trips = 0\n",
    "        \n",
    "        # compute number of rides longer than 30 minutes and total duration #\n",
    "        # of all trips                                                      #\n",
    "        for row in reader :\n",
    "            if float(row['duration']) > 30 :\n",
    "                if row['user_type'] == 'Subscriber':\n",
    "                    sub_trips += 1\n",
    "                else :\n",
    "                    cus_trips += 1\n",
    "                    \n",
    "        # compute total number of rides\n",
    "        tot_trips = sub_trips + cus_trips     \n",
    "        \n",
    "        # return tallies as a tuple\n",
    "        return(sub_trips,cus_trips, tot_trips)"
   ]
  },
  {
   "cell_type": "code",
   "execution_count": 62,
   "metadata": {},
   "outputs": [
    {
     "name": "stdout",
     "output_type": "stream",
     "text": [
      "City->Average duration->Proportion of trips longer 30 minutes\n",
      "Bay Area->14.038656929671376->3.5243689474519764\n",
      "Washington->18.93287355913725->10.83888671109369\n",
      "Chicago->16.563629368787286->8.332062497400562\n",
      "NYC->15.812592998022684->7.3024371563378345\n"
     ]
    }
   ],
   "source": [
    "## Load the trip data to above function and get output ##\n",
    "\n",
    "# set up a dictionary to hold the values for the average trip duration,  \n",
    "# proportion of rides longer than 30 minutes\n",
    "city_average = {}\n",
    "city_proportion = {}\n",
    "\n",
    "# use the helper function to get the trips details for each city\n",
    "city_average['Bay Area'] = duration_of_trips('./examples/BayArea-Y3-Summary.csv')[2]/number_of_trips('./examples/BayArea-Y3-Summary.csv')[2]\n",
    "city_proportion['Bay Area'] = trips_longer_30('./examples/BayArea-Y3-Summary.csv')[2]*100/number_of_trips('./examples/BayArea-Y3-Summary.csv')[2]\n",
    "\n",
    "for city, filenames in city_info.items():\n",
    "    city_average[city] = duration_of_trips(filenames['out_file'])[2]/city_total[city]\n",
    "    city_proportion[city] = trips_longer_30(filenames['out_file'])[2]*100/city_total[city]\n",
    "\n",
    "# Print the average duration and proportion of trips > 30 minutes #\n",
    "# for each city                                                   #\n",
    "print(f'City->Average duration->Proportion of trips longer 30 minutes')\n",
    "for keys in city_average :\n",
    "    print(f'{keys}->{city_average[keys]}->{city_proportion[keys]}')"
   ]
  },
  {
   "cell_type": "markdown",
   "metadata": {},
   "source": [
    "**Question 4c**: Dig deeper into the question of trip duration based on ridership. Choose one city. Within that city, which type of user takes longer rides on average: Subscribers or Customers?\n",
    "\n",
    "**Answer**: For New York City, Customers take longer rides  on average - 19 min. longer"
   ]
  },
  {
   "cell_type": "code",
   "execution_count": 63,
   "metadata": {},
   "outputs": [
    {
     "name": "stdout",
     "output_type": "stream",
     "text": [
      "City->Average Subscriber trip duration->Average Customer trip duration\n",
      "Bay Area->9.512633839275217->54.55121116377032\n",
      "Washington->12.528120499294745->41.67803139252976\n",
      "Chicago->12.067201690250076->30.979781133982506\n",
      "NYC->13.680790523907177->32.77595139473187\n"
     ]
    }
   ],
   "source": [
    "## Use this and additional cells to answer Question 4c. If you have    ##\n",
    "## not done so yet, consider revising some of your previous code to    ##\n",
    "## make use of functions for reusability.                              ##\n",
    "##                                                                     ##\n",
    "## TIP: For the Bay Area example data, you should find the average     ##\n",
    "## Subscriber trip duration to be 9.5 minutes and the average Customer ##\n",
    "## trip duration to be 54.6 minutes. Do the other cities have this     ##\n",
    "## level of difference?                                                ##\n",
    "## Load the trip data to above function and get output ##\n",
    "\n",
    "# set up a dictionary to hold the values for the average trip duration,  \n",
    "city_subaverage = {}\n",
    "city_cusaverage = {}\n",
    "\n",
    "# use the helper function to get the trips details for each city\n",
    "city_subaverage['Bay Area'] = duration_of_trips('./examples/BayArea-Y3-Summary.csv')[0]/number_of_trips('./examples/BayArea-Y3-Summary.csv')[0]\n",
    "city_cusaverage['Bay Area'] = duration_of_trips('./examples/BayArea-Y3-Summary.csv')[1]/number_of_trips('./examples/BayArea-Y3-Summary.csv')[1]\n",
    "\n",
    "for city, filenames in city_info.items():\n",
    "    city_subaverage[city] = duration_of_trips(filenames['out_file'])[0]/city_subscribers[city]\n",
    "    city_cusaverage[city] = duration_of_trips(filenames['out_file'])[1]/city_customers[city]\n",
    "\n",
    "# Print the average Subscriber and Customer trip #\n",
    "# duration for each city                         #\n",
    "print(f'City->Average Subscriber trip duration->Average Customer trip duration')\n",
    "for keys in city_average :\n",
    "    print(f'{keys}->{city_subaverage[keys]}->{city_cusaverage[keys]}')\n"
   ]
  },
  {
   "cell_type": "markdown",
   "metadata": {},
   "source": [
    "<a id='visualizations'></a>\n",
    "### Visualizations\n",
    "\n",
    "The last set of values that you computed should have pulled up an interesting result. While the mean trip time for Subscribers is well under 30 minutes, the mean trip time for Customers is actually _above_ 30 minutes! It will be interesting for us to look at how the trip times are distributed. In order to do this, a new library will be introduced here, `matplotlib`. Run the cell below to load the library and to generate an example plot."
   ]
  },
  {
   "cell_type": "code",
   "execution_count": 64,
   "metadata": {},
   "outputs": [
    {
     "data": {
      "image/png": "[encoded data removed]",
      "text/plain": [
       "<matplotlib.figure.Figure at 0x7f218bac3a90>"
      ]
     },
     "metadata": {},
     "output_type": "display_data"
    }
   ],
   "source": [
    "# load library\n",
    "import matplotlib.pyplot as plt\n",
    "\n",
    "# this is a 'magic word' that allows for plots to be displayed\n",
    "# inline with the notebook. If you want to know more, see:\n",
    "# http://ipython.readthedocs.io/en/stable/interactive/magics.html\n",
    "%matplotlib inline \n",
    "\n",
    "# example histogram, data taken from bay area sample\n",
    "data = [ 7.65,  8.92,  7.42,  5.50, 16.17,  4.20,  8.98,  9.62, 11.48, 14.33,\n",
    "        19.02, 21.53,  3.90,  7.97,  2.62,  2.67,  3.08, 14.40, 12.90,  7.83,\n",
    "        25.12,  8.30,  4.93, 12.43, 10.60,  6.17, 10.88,  4.78, 15.15,  3.53,\n",
    "         9.43, 13.32, 11.72,  9.85,  5.22, 15.10,  3.95,  3.17,  8.78,  1.88,\n",
    "         4.55, 12.68, 12.38,  9.78,  7.63,  6.45, 17.38, 11.90, 11.52,  8.63,]\n",
    "plt.hist(data)\n",
    "plt.title('Distribution of Trip Durations')\n",
    "plt.xlabel('Duration (m)')\n",
    "plt.show()"
   ]
  },
  {
   "cell_type": "markdown",
   "metadata": {},
   "source": [
    "In the above cell, we collected fifty trip times in a list, and passed this list as the first argument to the `.hist()` function. This function performs the computations and creates plotting objects for generating a histogram, but the plot is actually not rendered until the `.show()` function is executed. The `.title()` and `.xlabel()` functions provide some labeling for plot context.\n",
    "\n",
    "You will now use these functions to create a histogram of the trip times for the city you selected in question 4c. Don't separate the Subscribers and Customers for now: just collect all of the trip times and plot them."
   ]
  },
  {
   "cell_type": "code",
   "execution_count": 65,
   "metadata": {},
   "outputs": [
    {
     "data": {
      "image/png": "[encoded data removed]",
      "text/plain": [
       "<matplotlib.figure.Figure at 0x7f218b1830b8>"
      ]
     },
     "metadata": {},
     "output_type": "display_data"
    }
   ],
   "source": [
    "## Use this and additional cells to collect all of the trip times as a list ##\n",
    "## and then use pyplot functions to generate a histogram of trip times.     ##\n",
    "\n",
    "with open('./data/NYC-2016-Summary.csv', 'r') as f_in:\n",
    "    # set up csv reader object\n",
    "    reader = csv.DictReader(f_in)\n",
    "        \n",
    "    #Initialize values\n",
    "    trip_data = []\n",
    "    \n",
    "    for row in reader :\n",
    "        trip_data.append(round(float(row['duration']))) \n",
    "\n",
    "#Plot the graph\n",
    "plt.hist(trip_data)\n",
    "plt.title('Distribution of Trip Durations')\n",
    "plt.xlabel('Duration (m)')\n",
    "plt.show()\n",
    "    "
   ]
  },
  {
   "cell_type": "markdown",
   "metadata": {},
   "source": [
    "If you followed the use of the `.hist()` and `.show()` functions exactly like in the example, you're probably looking at a plot that's completely unexpected. The plot consists of one extremely tall bar on the left, maybe a very short second bar, and a whole lot of empty space in the center and right. Take a look at the duration values on the x-axis. This suggests that there are some highly infrequent outliers in the data. Instead of reprocessing the data, you will use additional parameters with the `.hist()` function to limit the range of data that is plotted. Documentation for the function can be found [[here]](https://matplotlib.org/devdocs/api/_as_gen/matplotlib.pyplot.hist.html#matplotlib.pyplot.hist).\n",
    "\n",
    "**Question 5**: Use the parameters of the `.hist()` function to plot the distribution of trip times for the Subscribers in your selected city. Do the same thing for only the Customers. Add limits to the plots so that only trips of duration less than 75 minutes are plotted. As a bonus, set the plots up so that bars are in five-minute wide intervals. For each group, where is the peak of each distribution? How would you describe the shape of each distribution?\n",
    "\n",
    "**Answer**: For Subscriber group, peak is at [5-10]min interval and shape is Right skewed distribution\n",
    "For Customer group, peak is at [20-25] min interval and shape is Right skewed distribution"
   ]
  },
  {
   "cell_type": "code",
   "execution_count": 66,
   "metadata": {},
   "outputs": [
    {
     "data": {
      "image/png": "[encoded data removed]",
      "text/plain": [
       "<matplotlib.figure.Figure at 0x7f218b19c208>"
      ]
     },
     "metadata": {},
     "output_type": "display_data"
    },
    {
     "data": {
      "image/png": "[encoded data removed]",
      "text/plain": [
       "<matplotlib.figure.Figure at 0x7f218b1833c8>"
      ]
     },
     "metadata": {},
     "output_type": "display_data"
    }
   ],
   "source": [
    "## Use this and additional cells to answer Question 5. ##\n",
    "\n",
    "# load library\n",
    "import matplotlib.pyplot as plt\n",
    "\n",
    "# this is a 'magic word' that allows for plots to be displayed\n",
    "# inline with the notebook. If you want to know more, see:\n",
    "# http://ipython.readthedocs.io/en/stable/interactive/magics.html\n",
    "%matplotlib inline \n",
    "\n",
    "with open(city_info['NYC']['out_file'], 'r') as f_in:\n",
    "    # set up csv reader object\n",
    "    reader = csv.DictReader(f_in)\n",
    "        \n",
    "    #Initialize values\n",
    "    sub_data = []\n",
    "    cus_data = []\n",
    "    \n",
    "    for row in reader :\n",
    "        if row['user_type'] == 'Subscriber':\n",
    "            sub_data.append(round(float(row['duration'])))\n",
    "        else :\n",
    "            cus_data.append(round(float(row['duration'])))\n",
    "\n",
    "#Plot the graph\n",
    "plt.hist(sub_data, edgecolor='black', bins=[5*i for i in range(0,16)])\n",
    "plt.title('Distribution of Subscriber Trip Durations')\n",
    "plt.xlim(0,75)\n",
    "plt.xlabel('Duration (m)')\n",
    "plt.show()\n",
    "plt.hist(cus_data, edgecolor='black', bins=[5*i for i in range(0,16)])\n",
    "plt.xlim(0,75)\n",
    "plt.title('Distribution of Customer Trip Durations')\n",
    "plt.xlabel('Duration (m)')\n",
    "plt.show()"
   ]
  },
  {
   "cell_type": "markdown",
   "metadata": {
    "collapsed": true
   },
   "source": [
    "<a id='eda_continued'></a>\n",
    "## Performing Your Own Analysis\n",
    "\n",
    "So far, you've performed an initial exploration into the data available. You have compared the relative volume of trips made between three U.S. cities and the ratio of trips made by Subscribers and Customers. For one of these cities, you have investigated differences between Subscribers and Customers in terms of how long a typical trip lasts. Now it is your turn to continue the exploration in a direction that you choose. Here are a few suggestions for questions to explore:\n",
    "\n",
    "- How does ridership differ by month or season? Which month / season has the highest ridership? Does the ratio of Subscriber trips to Customer trips change depending on the month or season?\n",
    "- Is the pattern of ridership different on the weekends versus weekdays? On what days are Subscribers most likely to use the system? What about Customers? Does the average duration of rides change depending on the day of the week?\n",
    "- During what time of day is the system used the most? Is there a difference in usage patterns for Subscribers and Customers?\n",
    "\n",
    "If any of the questions you posed in your answer to question 1 align with the bullet points above, this is a good opportunity to investigate one of them. As part of your investigation, you will need to create a visualization. If you want to create something other than a histogram, then you might want to consult the [Pyplot documentation](https://matplotlib.org/devdocs/api/pyplot_summary.html). In particular, if you are plotting values across a categorical variable (e.g. city, user type), a bar chart will be useful. The [documentation page for `.bar()`](https://matplotlib.org/devdocs/api/_as_gen/matplotlib.pyplot.bar.html#matplotlib.pyplot.bar) includes links at the bottom of the page with examples for you to build off of for your own use.\n",
    "\n",
    "**Question 6**: Continue the investigation by exploring another question that could be answered by the data available. Document the question you want to explore below. Your investigation should involve at least two variables and should compare at least two groups. You should also use at least one visualization as part of your explorations.\n",
    "\n",
    "**Answer**: \n",
    "- How does ridership differ by month or season? Which month / season has the highest ridership? Does the ratio of Subscriber trips to Customer trips change depending on the month or season?\n",
    " - **Answer**:\n",
    "Monthly and Seasonal ridership plots are shown below. The system is having highest ridership in Fall season especially on September. \n",
    "During winter season, there is almost negligible usage by Customers causing Subscriber to Customer ratio high. Customer and Subscriber usage is high during Summer and Fall seasons. Customer ridership is more on August and Subscriber ridership is more on September\n",
    "\n",
    "\n"
   ]
  },
  {
   "cell_type": "code",
   "execution_count": 5,
   "metadata": {},
   "outputs": [],
   "source": [
    "## Use this and additional cells to continue to explore the dataset. ##\n",
    "## Once you have performed your exploration, document your findings  ##\n",
    "## in the Markdown cell above.                                       ##\n",
    "def mdnumber_of_trips(filename, comp, actual):\n",
    "    \"\"\"\n",
    "    This function reads in a file with trip data and reports the duration of\n",
    "    trips made by users.\n",
    "    \"\"\"\n",
    "    with open(filename, 'r') as f_in:\n",
    "        # set up csv reader object\n",
    "        reader = csv.DictReader(f_in)\n",
    "        \n",
    "        # initialize count variables\n",
    "        sub_trips = 0\n",
    "        cus_trips = 0\n",
    "        tot_trips = 0\n",
    "        \n",
    "        # compute total duration of all trips for subscriber#\n",
    "        # and customer                                      #\n",
    "        for row in reader :\n",
    "            if row[comp] == actual:\n",
    "                if row['user_type'] == 'Subscriber' :\n",
    "                    sub_trips += 1\n",
    "                else :\n",
    "                    cus_trips += 1\n",
    "        \n",
    "        # Calculate Total trip duration                     #\n",
    "\n",
    "        tot_trips = sub_trips + cus_trips\n",
    "        \n",
    "        # return tallies as a tuple\n",
    "        return(sub_trips, cus_trips, tot_trips)\n"
   ]
  },
  {
   "cell_type": "code",
   "execution_count": 68,
   "metadata": {},
   "outputs": [],
   "source": [
    "##Get ridership pattern by month/season   ##\n",
    "\n",
    "#Initialize dictionaries\n",
    "\n",
    "sub_mondata = []\n",
    "cus_mondata = []\n",
    "sub_sesdata = []\n",
    "cus_sesdata = []\n",
    "months = []\n",
    "rat_mondata = []\n",
    "\n",
    "#Get monthly trip data for all users ##\n",
    "for month in range(1,13):\n",
    "    sub_mondata.append(mdnumber_of_trips(city_info['NYC']['out_file'], 'month', str(month))[0])\n",
    "    cus_mondata.append(mdnumber_of_trips(city_info['NYC']['out_file'], 'month', str(month))[1])\n",
    "    months.append(date(2018, month, 1).strftime('%b'))\n",
    "    rat_mondata.append(sub_mondata[month-1]/cus_mondata[month-1])\n",
    "\n",
    "for i in range(1,4) :\n",
    "    sub_sesdata.append(sub_mondata[3*i-1] + sub_mondata[3*i] + sub_mondata[3*i+1])\n",
    "    cus_sesdata.append(cus_mondata[3*i-1] + cus_mondata[3*i] + cus_mondata[3*i+1])\n",
    "\n",
    "sub_sesdata.append(sub_mondata[11] + sub_mondata[0] + sub_mondata[1])\n",
    "cus_sesdata.append(cus_mondata[11] + cus_mondata[0] + cus_mondata[1])\n"
   ]
  },
  {
   "cell_type": "code",
   "execution_count": 69,
   "metadata": {
    "scrolled": true
   },
   "outputs": [
    {
     "data": {
      "image/png": "[encoded data removed]",
      "text/plain": [
       "<matplotlib.figure.Figure at 0x7f218ba84da0>"
      ]
     },
     "metadata": {},
     "output_type": "display_data"
    },
    {
     "name": "stdout",
     "output_type": "stream",
     "text": [
      "Customer ridership is more on Aug\n",
      "Subscriber ridership is more on Sep\n",
      "Subscriber to Customer ridership ratio is more on Jan\n"
     ]
    },
    {
     "data": {
      "image/png": "[encoded data removed]",
      "text/plain": [
       "<matplotlib.figure.Figure at 0x7f218b177d30>"
      ]
     },
     "metadata": {},
     "output_type": "display_data"
    }
   ],
   "source": [
    "##Plot the graph ##\n",
    "ind = [i for i in range(1,13)]\n",
    "p1 = plt.bar(ind, sub_mondata, edgecolor='black', color='red')\n",
    "p2 = plt.bar(ind, cus_mondata, edgecolor='black', color='yellow', bottom=sub_mondata)\n",
    "plt.title('Monthly Distribution of Ridership by Usertype')\n",
    "plt.xticks(ind, months)\n",
    "plt.xlabel('Month')\n",
    "plt.ylabel('Ridership')\n",
    "plt.legend((p1[0], p2[0]), ('Subscriber', 'Customer'))\n",
    "plt.show()\n",
    "\n",
    "print(f'Customer ridership is more on {months[cus_mondata.index(max(cus_mondata))]}')\n",
    "print(f'Subscriber ridership is more on {months[sub_mondata.index(max(sub_mondata))]}')\n",
    "print(f'Subscriber to Customer ridership ratio is more on {months[rat_mondata.index(max(rat_mondata))]}')\n",
    "\n",
    "p1 = plt.bar(ind, rat_mondata, edgecolor='black')\n",
    "plt.title('Monthly Distribution of Ridership ratio')\n",
    "plt.xticks(ind, months)\n",
    "plt.xlabel('Month')\n",
    "plt.ylabel('Ridership ratio')\n",
    "plt.show()"
   ]
  },
  {
   "cell_type": "code",
   "execution_count": 70,
   "metadata": {},
   "outputs": [
    {
     "data": {
      "image/png": "[encoded data removed]",
      "text/plain": [
       "<matplotlib.figure.Figure at 0x7f218b101908>"
      ]
     },
     "metadata": {},
     "output_type": "display_data"
    },
    {
     "name": "stdout",
     "output_type": "stream",
     "text": [
      "Customer ridership is more on 2\n",
      "Subscriber ridership is more on 3\n"
     ]
    }
   ],
   "source": [
    "#Plot the graph\n",
    "ses = [i for i in range(1,5)]\n",
    "p1 = plt.bar(ses, sub_sesdata, edgecolor='black', color='red')\n",
    "p2 = plt.bar(ses, cus_sesdata, edgecolor='black', color='yellow', bottom=sub_sesdata)\n",
    "plt.title('Seasonal Distribution of Ridership by Usertype')\n",
    "plt.xticks(ses, ['Spring', 'Summer', 'Fall', 'Winter'])\n",
    "plt.xlabel('Season')\n",
    "plt.ylabel('Ridership')\n",
    "plt.legend((p1[0], p2[0]), ('Subscriber', 'Customer'))\n",
    "plt.show()\n",
    "\n",
    "print(f'Customer ridership is more on {ses[cus_sesdata.index(max(cus_sesdata))]}')\n",
    "print(f'Subscriber ridership is more on {ses[sub_sesdata.index(max(sub_sesdata))]}')"
   ]
  },
  {
   "cell_type": "markdown",
   "metadata": {},
   "source": [
    "- Is the pattern of ridership different on the weekends versus weekdays? On what days are Subscribers most likely to use the system? What about Customers? Does the average duration of rides change depending on the day of the week?\n",
    "\n",
    " - **Answer**:Ridership pattern is different on weekends and weekdays\n",
    "Subscribers most likely use the system on Weekdays and Customers on Weekends.\n",
    "Average duration of rides depend on day of week and is usually more on weekends"
   ]
  },
  {
   "cell_type": "code",
   "execution_count": 71,
   "metadata": {},
   "outputs": [],
   "source": [
    "## Use this and additional cells to answer Question 4b.                 ##\n",
    "##                                                                      ##\n",
    "## HINT: The csv module reads in all of the data as strings, including  ##\n",
    "## numeric values. You will need a function to convert the strings      ##\n",
    "## into an appropriate numeric type before you aggregate data.          ##\n",
    "## TIP: For the Bay Area example, the average trip length is 14 minutes ##\n",
    "## and 3.5% of trips are longer than 30 minutes.                        ##\n",
    "\n",
    "def dduration_of_trips(filename, day):\n",
    "    \"\"\"\n",
    "    This function reads in a file with trip data and reports the duration of\n",
    "    trips made by users.\n",
    "    \"\"\"\n",
    "    with open(filename, 'r') as f_in:\n",
    "        # set up csv reader object\n",
    "        reader = csv.DictReader(f_in)\n",
    "        \n",
    "        # initialize count variables\n",
    "        sub_trips = 0\n",
    "        cus_trips = 0\n",
    "        tot_trips = 0\n",
    "        \n",
    "        # compute total duration of all trips for subscriber#\n",
    "        # and customer                                      #\n",
    "        for row in reader :\n",
    "            if row['day_of_week'] == day :                \n",
    "                if row['user_type'] == 'Subscriber' :\n",
    "                    sub_trips += float(row['duration'])\n",
    "                else :\n",
    "                    cus_trips += float(row['duration'])\n",
    "        \n",
    "        # Calculate Total trip duration                     #\n",
    "\n",
    "        tot_trips = sub_trips + cus_trips\n",
    "        \n",
    "        # return tallies as a tuple\n",
    "        return(sub_trips, cus_trips, tot_trips)\n",
    "\n"
   ]
  },
  {
   "cell_type": "code",
   "execution_count": 78,
   "metadata": {},
   "outputs": [],
   "source": [
    "##Get ridership pattern by day of week   ##\n",
    "\n",
    "#Initialize dictionaries\n",
    "\n",
    "sub_daydata = []\n",
    "cus_daydata = []\n",
    "tot_daydata = []\n",
    "sub_dayavg = []\n",
    "cus_dayavg = []\n",
    "tot_dayavg = []\n",
    "days = ['Monday', 'Tuesday', 'Wednesday', 'Thursday', 'Friday', 'Saturday', 'Sunday']\n",
    "\n",
    "\n",
    "#Get monthly trip data for all users ##\n",
    "for day in range(1,8):\n",
    "    sub_daydata.append(mdnumber_of_trips(city_info['NYC']['out_file'], 'day_of_week', days[day-1])[0])\n",
    "    cus_daydata.append(mdnumber_of_trips(city_info['NYC']['out_file'], 'day_of_week', days[day-1])[1])\n",
    "    tot_daydata.append(mdnumber_of_trips(city_info['NYC']['out_file'], 'day_of_week', days[day-1])[2])\n",
    "    sub_dayavg.append(dduration_of_trips(city_info['NYC']['out_file'], days[day-1])[0]/sub_daydata[day-1])\n",
    "    cus_dayavg.append(dduration_of_trips(city_info['NYC']['out_file'], days[day-1])[1]/cus_daydata[day-1])\n",
    "    tot_dayavg.append(dduration_of_trips(city_info['NYC']['out_file'], days[day-1])[2]/tot_daydata[day-1])\n",
    "\n",
    "\n"
   ]
  },
  {
   "cell_type": "code",
   "execution_count": 87,
   "metadata": {},
   "outputs": [
    {
     "data": {
      "image/png": "[encoded data removed]",
      "text/plain": [
       "<matplotlib.figure.Figure at 0x7f218b56bc88>"
      ]
     },
     "metadata": {},
     "output_type": "display_data"
    },
    {
     "name": "stdout",
     "output_type": "stream",
     "text": [
      "Customer ridership is more on Saturday\n",
      "Subscriber ridership is more on Wednesday\n"
     ]
    },
    {
     "data": {
      "image/png": "[encoded data removed]",
      "text/plain": [
       "<matplotlib.figure.Figure at 0x7f218b0941d0>"
      ]
     },
     "metadata": {},
     "output_type": "display_data"
    }
   ],
   "source": [
    "##Plot the graph ##\n",
    "ind = [i for i in range(1,8)]\n",
    "p1 = plt.bar(ind, sub_daydata, edgecolor='black', color='red')\n",
    "p2 = plt.bar(ind, cus_daydata, edgecolor='black', color='yellow', bottom=sub_daydata)\n",
    "plt.title('Daily Distribution of Ridership by Usertype')\n",
    "plt.xticks(ind, days)\n",
    "plt.xlabel('Day')\n",
    "plt.ylabel('Ridership')\n",
    "plt.legend((p1[0], p2[0]), ('Subscriber', 'Customer'))\n",
    "plt.show()\n",
    "\n",
    "print(f'Customer ridership is more on {days[cus_daydata.index(max(cus_daydata))]}')\n",
    "print(f'Subscriber ridership is more on {days[sub_daydata.index(max(sub_daydata))]}')\n",
    "\n",
    "plt.bar(ind, tot_dayavg, edgecolor='black', label='Total' )\n",
    "plt.title('Daily Distribution of Ridership by Avg. duration')\n",
    "plt.xticks(ind, days)\n",
    "plt.xlabel('Day')\n",
    "plt.ylabel('Ridership')\n",
    "plt.show()\n"
   ]
  },
  {
   "cell_type": "markdown",
   "metadata": {},
   "source": [
    "- During what time of day is the system used the most? Is there a difference in usage patterns for Subscribers and Customers?\n",
    " - **Answer** : System is used the most at 18'o clock. The usage pattern is different for subscribers and customers. Subscribers use the system most at 9-10'0 clock and 18-20'o clock which corresponds to office commute hours while customers use it the most at 11-18'0 clock corresponding to tourist hours"
   ]
  },
  {
   "cell_type": "code",
   "execution_count": 90,
   "metadata": {},
   "outputs": [],
   "source": [
    "##Get ridership pattern by hour   ##\n",
    "\n",
    "#Initialize dictionaries\n",
    "\n",
    "sub_hourdata = []\n",
    "cus_hourdata = []\n",
    "tot_hourdata = []\n",
    "hours = [i for i in range(0,24)]\n",
    "\n",
    "\n",
    "#Get monthly trip data for all users ##\n",
    "for hour in range(0,24):\n",
    "    sub_hourdata.append(mdnumber_of_trips(city_info['NYC']['out_file'], 'hour', str(hours[hour-1]))[0])\n",
    "    cus_hourdata.append(mdnumber_of_trips(city_info['NYC']['out_file'], 'hour', str(hours[hour-1]))[1])\n",
    "    tot_hourdata.append(mdnumber_of_trips(city_info['NYC']['out_file'], 'hour', str(hours[hour-1]))[2])\n",
    "\n",
    "\n",
    "\n"
   ]
  },
  {
   "cell_type": "code",
   "execution_count": 92,
   "metadata": {},
   "outputs": [
    {
     "data": {
      "image/png": "[encoded data removed]",
      "text/plain": [
       "<matplotlib.figure.Figure at 0x7f218c39d6a0>"
      ]
     },
     "metadata": {},
     "output_type": "display_data"
    },
    {
     "name": "stdout",
     "output_type": "stream",
     "text": [
      "Customer ridership is more on 16\n",
      "Subscriber ridership is more on 18\n"
     ]
    }
   ],
   "source": [
    "##Plot the graph ##\n",
    "p1 = plt.bar(hours, sub_hourdata, edgecolor='black', color='red')\n",
    "p2 = plt.bar(hours, cus_hourdata, edgecolor='black', color='yellow', bottom=sub_hourdata)\n",
    "plt.title('Hourly Distribution of Ridership by Usertype')\n",
    "plt.xlabel('Hour')\n",
    "plt.ylabel('Ridership')\n",
    "plt.legend((p1[0], p2[0]), ('Subscriber', 'Customer'))\n",
    "plt.show()\n",
    "\n",
    "print(f'Customer ridership is more on {cus_hourdata.index(max(cus_hourdata))}')\n",
    "print(f'Subscriber ridership is more on {sub_hourdata.index(max(sub_hourdata))}')"
   ]
  },
  {
   "cell_type": "markdown",
   "metadata": {},
   "source": [
    "<a id='conclusions'></a>\n",
    "## Conclusions\n",
    "\n",
    "Congratulations on completing the project! This is only a sampling of the data analysis process: from generating questions, wrangling the data, and to exploring the data. Normally, at this point in the data analysis process, you might want to draw conclusions about the data by performing a statistical test or fitting the data to a model for making predictions. There are also a lot of potential analyses that could be performed on the data which are not possible with only the data provided. For example, detailed location data has not been investigated. Where are the most commonly used docks? What are the most common routes? As another example, weather has potential to have a large impact on daily ridership. How much is ridership impacted when there is rain or snow? Are subscribers or customers affected more by changes in weather?\n",
    "\n",
    "**Question 7**: Putting the bike share data aside, think of a topic or field of interest where you would like to be able to apply the techniques of data science. What would you like to be able to learn from your chosen subject?\n",
    "\n",
    "**Answer**: I would like to apply the techniques of datascience to analyze the fraud credit card transactions or SWIFT payments and develop a model to predict if a transaction is authentic or fraud one.\n",
    "\n",
    "> **Tip**: If we want to share the results of our analysis with others, we aren't limited to giving them a copy of the jupyter Notebook (.ipynb) file. We can also export the Notebook output in a form that can be opened even for those without Python installed. From the **File** menu in the upper left, go to the **Download as** submenu. You can then choose a different format that can be viewed more generally, such as HTML (.html) or\n",
    "PDF (.pdf). You may need additional packages or software to perform these exports.\n",
    "\n",
    "> If you are working on this project via the Project Notebook page in the classroom, you can also submit this project directly from the workspace. **Before you do that**, you should save an HTML copy of the completed project to the workspace by running the code cell below. If it worked correctly, the output code should be a 0, and if you click on the jupyter icon in the upper left, you should see your .html document in the workspace directory. Alternatively, you can download the .html copy of your report following the steps in the previous paragraph, then _upload_ the report to the directory (by clicking the jupyter icon).\n",
    "\n",
    "> Either way, once you've gotten the .html report in your workspace, you can complete your submission by clicking on the \"Submit Project\" button to the lower-right hand side of the workspace."
   ]
  },
  {
   "cell_type": "code",
   "execution_count": 10,
   "metadata": {},
   "outputs": [
    {
     "data": {
      "text/plain": [
       "0"
      ]
     },
     "execution_count": 10,
     "metadata": {},
     "output_type": "execute_result"
    }
   ],
   "source": [
    "from subprocess import call\n",
    "call(['python', '-m', 'nbconvert', 'Bike_Share_Analysis.ipynb'])"
   ]
  },
  {
   "cell_type": "code",
   "execution_count": null,
   "metadata": {},
   "outputs": [],
   "source": []
  }
 ],
 "metadata": {
  "anaconda-cloud": {},
  "kernelspec": {
   "display_name": "Python 3",
   "language": "python",
   "name": "python3"
  },
  "language_info": {
   "codemirror_mode": {
    "name": "ipython",
    "version": 3
   },
   "file_extension": ".py",
   "mimetype": "text/x-python",
   "name": "python",
   "nbconvert_exporter": "python",
   "pygments_lexer": "ipython3",
   "version": "3.6.3"
  }
 },
 "nbformat": 4,
 "nbformat_minor": 1
}
